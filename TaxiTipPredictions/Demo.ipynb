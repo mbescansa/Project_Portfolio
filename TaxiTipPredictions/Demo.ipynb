{
 "cells": [
  {
   "cell_type": "markdown",
   "id": "coral-faculty",
   "metadata": {},
   "source": [
    "## DATA IMPORT"
   ]
  },
  {
   "cell_type": "code",
   "execution_count": 27,
   "id": "brazilian-vector",
   "metadata": {},
   "outputs": [],
   "source": [
    "import pandas as pd\n",
    "import numpy as np\n",
    "from sklearn import preprocessing\n",
    "from sklearn import linear_model\n",
    "from sklearn.metrics import r2_score\n",
    "from sklearn.model_selection import train_test_split\n",
    "from sklearn.preprocessing import OneHotEncoder\n",
    "from sklearn.preprocessing import StandardScaler\n",
    "\n",
    "# To make run all you ask in one cell, not only the last required\n",
    "from IPython.core.interactiveshell import InteractiveShell\n",
    "InteractiveShell.ast_node_interactivity = \"all\"\n",
    "# Format\n",
    "pd.options.display.float_format = '{:,.2f}'.format"
   ]
  },
  {
   "cell_type": "code",
   "execution_count": 28,
   "id": "organized-stage",
   "metadata": {},
   "outputs": [],
   "source": [
    "final_data = pd.read_csv('model_data.csv')\n",
    "final_data.drop(['fare_amount'],axis=1, inplace=True)"
   ]
  },
  {
   "cell_type": "markdown",
   "id": "hispanic-default",
   "metadata": {},
   "source": [
    "## DATA TRANSFORMATION"
   ]
  },
  {
   "cell_type": "code",
   "execution_count": 30,
   "id": "a6cca959",
   "metadata": {},
   "outputs": [],
   "source": [
    "y = final_data['tip_amount']\n",
    "X= final_data.drop(['tip_amount'], axis=1)\n",
    "X_train, X_test, y_train, y_test = train_test_split(X, y, test_size=0.25, random_state=100)\n",
    "numerical_train = X_train.select_dtypes(include = np.number)"
   ]
  },
  {
   "cell_type": "code",
   "execution_count": 31,
   "id": "multiple-vegetarian",
   "metadata": {},
   "outputs": [],
   "source": [
    "# TRAIN DATASET\n",
    "numerical_train = X_train.select_dtypes(include = np.number)\n",
    "# scaling standard scaler: make data normal distributed with mean=0 and std=1\n",
    "transformer = StandardScaler().fit(numerical_train)\n",
    "num_standardized = transformer.transform(numerical_train)\n",
    "train_num_stand = pd.DataFrame(num_standardized, columns=numerical_train.columns)\n",
    "# categorical\n",
    "categorical_train = X_train.select_dtypes(include = np.object)\n",
    "# encode categorical\n",
    "encoder = OneHotEncoder().fit(categorical_train)\n",
    "train_onehot = encoder.transform(categorical_train).toarray()\n",
    "enc = [columname for sublist in encoder.categories_ for columname in sublist]\n",
    "train_onehot = pd.DataFrame(train_onehot,columns=enc)\n",
    "# final train dataset\n",
    "numerical_train.reset_index(drop=True, inplace=True)\n",
    "train_onehot.reset_index(drop=True, inplace=True)\n",
    "X_train_preproc = pd.concat([train_num_stand,train_onehot], axis= 1)"
   ]
  },
  {
   "cell_type": "code",
   "execution_count": 32,
   "id": "union-broadcasting",
   "metadata": {},
   "outputs": [],
   "source": [
    "# TEST DATASET\n",
    "numerical_test = X_test.select_dtypes(include = np.number)\n",
    "# scaling standard scaler: make data normal distributed with mean=0 and std=1\n",
    "test_num_standardized = transformer.transform(numerical_test)\n",
    "test_num_stand = pd.DataFrame(test_num_standardized, columns=numerical_test.columns)\n",
    "# categorical\n",
    "categorical_test = X_test.select_dtypes(include = np.object)\n",
    "# encode categorical\n",
    "test_onehot = encoder.transform(categorical_test).toarray()\n",
    "enc = [columname for sublist in encoder.categories_ for columname in sublist]\n",
    "test_onehot = pd.DataFrame(test_onehot,columns=enc)\n",
    "# final test dataset\n",
    "X_test_preproc = pd.concat([test_num_stand,test_onehot], axis= 1)\n",
    "# X_test_preproc.head()"
   ]
  },
  {
   "cell_type": "markdown",
   "id": "swiss-lender",
   "metadata": {},
   "source": [
    "### MODELING AND VALIDATION"
   ]
  },
  {
   "cell_type": "code",
   "execution_count": 35,
   "id": "fixed-directive",
   "metadata": {},
   "outputs": [
    {
     "data": {
      "text/plain": [
       "LinearRegression()"
      ]
     },
     "execution_count": 35,
     "metadata": {},
     "output_type": "execute_result"
    },
    {
     "name": "stdout",
     "output_type": "stream",
     "text": [
      "2.1526527404785156\n",
      "0.6264595137698032\n"
     ]
    }
   ],
   "source": [
    "LR = linear_model.LinearRegression()\n",
    "LR.fit(X_train_preproc,y_train)\n",
    "y_pred= LR.predict(X_test_preproc)\n",
    "r2 = r2_score(y_test,y_pred)\n",
    "print(y_pred[0])\n",
    "print(r2)"
   ]
  },
  {
   "cell_type": "code",
   "execution_count": 40,
   "id": "adjusted-merchandise",
   "metadata": {},
   "outputs": [],
   "source": [
    "def questions():\n",
    "    passenger = int(input(\"How many are you? \"))\n",
    "    distance = int(input(\"Where are you going? \"))\n",
    "    duration = int(input(\"How long do you want to take? \"))   \n",
    "    numerical_client = pd.DataFrame({\"passenger_count\":passenger,\n",
    "                 \"trip_distance\" : distance,\n",
    "                 \"trip_duration\": duration,\n",
    "                 \"trip_average_speed\":35}, index=[0])\n",
    "    \n",
    "    weekday = input(\"When are you going to travel? \")\n",
    "    day_part = input(\"What time? \")\n",
    "    categorical_client = pd.DataFrame({\n",
    "                 \"day_part\" : day_part,\n",
    "                 \"weekday\" : weekday,\n",
    "                 \"passenger_load\":\"Small group\"}, index=[0])\n",
    "    # numerical: scaling standard scaler\n",
    "    test_num_standardized = transformer.transform(numerical_client)\n",
    "    test_num_stand = pd.DataFrame(test_num_standardized, columns=numerical_client.columns)\n",
    "    # categorical encoding\n",
    "    test_onehot = encoder.transform(categorical_client).toarray()\n",
    "    enc = [columname for sublist in encoder.categories_ for columname in sublist]\n",
    "    test_onehot = pd.DataFrame(test_onehot,columns=enc)\n",
    "    # final test dataset\n",
    "    X_test_preproc = pd.concat([test_num_stand,test_onehot], axis= 1)\n",
    "    # X_test_preproc.head()\n",
    "    \n",
    "    return print('Passengers have tipped an average amount $'+ str(LR.predict(X_test_preproc)[0].round(2))+' for this trip. Don\\'t forget to tip if you are happy with the service!')"
   ]
  },
  {
   "cell_type": "code",
   "execution_count": 41,
   "id": "sacred-racing",
   "metadata": {},
   "outputs": [
    {
     "name": "stdout",
     "output_type": "stream",
     "text": [
      "How many are you? 1\n",
      "Where are you going? 23\n",
      "How long do you want to take? 23\n",
      "When are you going to travel? Monday\n",
      "What time? Morning\n",
      "Passengers have tipped an average amount $7.89 for this trip. Don't forget to tip if you are happy with the service!\n"
     ]
    }
   ],
   "source": [
    "questions()"
   ]
  }
 ],
 "metadata": {
  "kernelspec": {
   "display_name": "Python 3",
   "language": "python",
   "name": "python3"
  },
  "language_info": {
   "codemirror_mode": {
    "name": "ipython",
    "version": 3
   },
   "file_extension": ".py",
   "mimetype": "text/x-python",
   "name": "python",
   "nbconvert_exporter": "python",
   "pygments_lexer": "ipython3",
   "version": "3.7.10"
  }
 },
 "nbformat": 4,
 "nbformat_minor": 5
}
